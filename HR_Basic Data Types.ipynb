{
 "cells": [
  {
   "cell_type": "markdown",
   "metadata": {},
   "source": [
    "# <center> HackerRank Basic Data Types Module </center>"
   ]
  },
  {
   "cell_type": "markdown",
   "metadata": {},
   "source": [
    " **This notebook contains a few solutions for HackerRank Basic Data Types Module**"
   ]
  },
  {
   "cell_type": "markdown",
   "metadata": {},
   "source": [
    "## List Comprehensions"
   ]
  },
  {
   "cell_type": "code",
   "execution_count": null,
   "metadata": {},
   "outputs": [],
   "source": [
    "x=int(input())\n",
    "y=int(input())\n",
    "z=int(input())\n",
    "N=int(input())\n",
    "lst=[]\n",
    "\n",
    "for i in range(x+1):\n",
    "    for j in range(y+1):\n",
    "        for k in range(z+1):\n",
    "            if i+j+k != N:\n",
    "                new=[[i,j,k]]\n",
    "                lst=lst+new\n",
    "\n",
    "print(lst) "
   ]
  },
  {
   "cell_type": "markdown",
   "metadata": {},
   "source": [
    "## Find the Runner-Up Score!"
   ]
  },
  {
   "cell_type": "code",
   "execution_count": null,
   "metadata": {},
   "outputs": [],
   "source": [
    "n=int(input())\n",
    "A=input()\n",
    "A2= [int(x) for x in (A.split())]\n",
    "A3=sorted(A2)\n",
    "A4=set(A3)\n",
    "A5=list(A4)\n",
    "A6= sorted(A5)\n",
    "print(A6[-2])"
   ]
  },
  {
   "cell_type": "markdown",
   "metadata": {},
   "source": [
    "## Nested Lists"
   ]
  },
  {
   "cell_type": "code",
   "execution_count": null,
   "metadata": {},
   "outputs": [],
   "source": [
    "n=int(input())\n",
    "ls=[]\n",
    "ls1=[]\n",
    "if (2<=n<=5):\n",
    "    for i in range(n):\n",
    "        name=input()\n",
    "        marks=float(input())\n",
    "        ls.append([name,marks])\n",
    "        \n",
    "for i in range(len(ls)):\n",
    "    ls1.append(ls[i][1])\n",
    "\n",
    "ls_set=set(ls1) \n",
    "ls_list=list(ls_set)    \n",
    "ls2=sorted(ls_set)    \n",
    "sec_best=ls2[1]    \n",
    "\n",
    "f_ls=[]\n",
    "for i in range(len(ls)):\n",
    "    if sec_best==ls[i][1]:\n",
    "        f_ls=f_ls+[ls[i][0]]\n",
    "        \n",
    "f_ls1=sorted(f_ls)\n",
    "for i in f_ls1:\n",
    "    print(i)\n"
   ]
  },
  {
   "cell_type": "markdown",
   "metadata": {},
   "source": [
    "## Finding the percentage"
   ]
  },
  {
   "cell_type": "code",
   "execution_count": null,
   "metadata": {},
   "outputs": [],
   "source": [
    "n=int(input())\n",
    "ls=[]\n",
    "ls1=[]\n",
    "if (2<=n<=10):\n",
    "    for i in range(n):\n",
    "        namev=input()\n",
    "        name_v=namev.split()\n",
    "        name=name_v[0]\n",
    "        v=name_v[1:4]\n",
    "        mar=list(float(x) for x in v)\n",
    "        marks=sum(mar)/3\n",
    "        ls.append([name,marks])\n",
    "\n",
    "Name_Find=input()\n",
    "for i in range(len(ls)):\n",
    "    if Name_Find==ls[i][0]:\n",
    "        print(\"{:.2f}\".format(ls[i][1]))\n",
    "    \n"
   ]
  },
  {
   "cell_type": "markdown",
   "metadata": {},
   "source": [
    "## Lists"
   ]
  },
  {
   "cell_type": "code",
   "execution_count": null,
   "metadata": {},
   "outputs": [],
   "source": [
    "n=int(input())\n",
    "ls=[]\n",
    "for i in range(n):\n",
    "    op_str=input()\n",
    "    op=op_str.split()\n",
    "    if op[0]=='insert':\n",
    "        pos=int(op[1])\n",
    "        no=int(op[2])\n",
    "        ls.insert(pos,no)\n",
    "    if op[0]=='print':\n",
    "        print(ls)\n",
    "    if op[0]=='remove':\n",
    "        no=int(op[1])\n",
    "        ls.remove(no)\n",
    "    if op[0]=='append':\n",
    "        no=int(op[1])\n",
    "        ls.append(no)\n",
    "    if op[0]=='sort':\n",
    "        ls.sort()\n",
    "    if op[0]=='pop':\n",
    "        ls.pop()\n",
    "    if op[0]=='reverse':\n",
    "        ls.reverse()\n",
    "        "
   ]
  },
  {
   "cell_type": "markdown",
   "metadata": {},
   "source": [
    "## Tuples"
   ]
  },
  {
   "cell_type": "code",
   "execution_count": null,
   "metadata": {},
   "outputs": [],
   "source": [
    "n=int(input())\n",
    "integer_list = map(int, input().split())  #****IMP SYNTAX***\n",
    "tuple_list=tuple(integer_list)\n",
    "print(hash(tuple_list))"
   ]
  }
 ],
 "metadata": {
  "kernelspec": {
   "display_name": "Python 3",
   "language": "python",
   "name": "python3"
  },
  "language_info": {
   "codemirror_mode": {
    "name": "ipython",
    "version": 3
   },
   "file_extension": ".py",
   "mimetype": "text/x-python",
   "name": "python",
   "nbconvert_exporter": "python",
   "pygments_lexer": "ipython3",
   "version": "3.7.3"
  }
 },
 "nbformat": 4,
 "nbformat_minor": 2
}
