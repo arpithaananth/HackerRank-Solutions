{
 "cells": [
  {
   "cell_type": "markdown",
   "metadata": {},
   "source": [
    "#  HackerRank Sets Module "
   ]
  },
  {
   "cell_type": "markdown",
   "metadata": {},
   "source": [
    "**This notebook contains a few solutions for HackerRank Sets Module**"
   ]
  },
  {
   "cell_type": "markdown",
   "metadata": {},
   "source": [
    "## Introduction to Sets"
   ]
  },
  {
   "cell_type": "code",
   "execution_count": null,
   "metadata": {},
   "outputs": [],
   "source": [
    "def average(array):\n",
    "    dist_arr=set(array)\n",
    "    dis_arr=list(dist_arr)\n",
    "    sum1=sum(dis_arr)\n",
    "    len1=len(dis_arr)\n",
    "    res=sum1/len1\n",
    "    return(res)"
   ]
  },
  {
   "cell_type": "markdown",
   "metadata": {},
   "source": [
    "## Symmetric Difference"
   ]
  },
  {
   "cell_type": "code",
   "execution_count": null,
   "metadata": {},
   "outputs": [],
   "source": [
    "m=int(input())\n",
    "m_ele=str(input())\n",
    "m_list=list(int(x) for x in (m_ele.split()) )\n",
    "m_set=set(m_list)\n",
    "\n",
    "\n",
    "n=int(input())\n",
    "n_ele=str(input())\n",
    "n_list=list(int(x) for x in (n_ele.split()) )\n",
    "n_set=set(n_list)\n",
    "\n",
    "\n",
    "a1=m_set.difference(n_set)\n",
    "b1=n_set.difference(m_set)\n",
    "a_list=list(a1)\n",
    "b_list=list(b1)\n",
    "total_list=a_list+b_list\n",
    "\n",
    "sort_tl=sorted(total_list)\n",
    "for i in sort_tl:\n",
    "    print(i)\n",
    " "
   ]
  },
  {
   "cell_type": "markdown",
   "metadata": {},
   "source": [
    "## Set Mutations"
   ]
  },
  {
   "cell_type": "code",
   "execution_count": null,
   "metadata": {},
   "outputs": [],
   "source": [
    "n=int(input())\n",
    "v=list(int(x) for x in (input().split()))\n",
    "v_set=set(v)\n",
    "\n",
    "N=int(input())\n",
    "for i in range(N):\n",
    "    op_str=input()\n",
    "    op=op_str.split()\n",
    "    if op[0]=='intersection_update':\n",
    "        nos=int(op[1])\n",
    "        no=input()\n",
    "        no_split=list(int(x) for x in (no.split()))\n",
    "        no=set(no_split)\n",
    "        v_set.intersection_update(no)\n",
    "        \n",
    "    if op[0]=='update':\n",
    "        nos=int(op[1])\n",
    "        no=input()\n",
    "        no_split=list(int(x) for x in (no.split()))\n",
    "        no=set(no_split)\n",
    "        v_set.update(no)\n",
    "        \n",
    "    if op[0]=='symmetric_difference_update':\n",
    "        nos=int(op[1])\n",
    "        no=input()\n",
    "        no_split=list(int(x) for x in (no.split()))\n",
    "        no=set(no_split)\n",
    "        v_set.symmetric_difference_update(no)  \n",
    "        \n",
    "    if op[0]=='difference_update':\n",
    "        nos=int(op[1])\n",
    "        no=input()\n",
    "        no_split=list(int(x) for x in (no.split()))\n",
    "        no=set(no_split)\n",
    "        v_set.difference_update(no)   \n",
    "        \n",
    "        \n",
    "\n",
    "print(sum(v_set))\n"
   ]
  }
 ],
 "metadata": {
  "kernelspec": {
   "display_name": "Python 3",
   "language": "python",
   "name": "python3"
  },
  "language_info": {
   "codemirror_mode": {
    "name": "ipython",
    "version": 3
   },
   "file_extension": ".py",
   "mimetype": "text/x-python",
   "name": "python",
   "nbconvert_exporter": "python",
   "pygments_lexer": "ipython3",
   "version": "3.7.3"
  }
 },
 "nbformat": 4,
 "nbformat_minor": 2
}
