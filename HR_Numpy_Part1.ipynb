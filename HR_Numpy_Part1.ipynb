{
 "cells": [
  {
   "cell_type": "markdown",
   "metadata": {},
   "source": [
    "# <center> HackerRank Numpy Module </center>"
   ]
  },
  {
   "cell_type": "markdown",
   "metadata": {},
   "source": [
    "**This notebook contains a few solutions for HackerRank Numpy Module**"
   ]
  },
  {
   "cell_type": "markdown",
   "metadata": {},
   "source": [
    "##  Arrays"
   ]
  },
  {
   "cell_type": "code",
   "execution_count": null,
   "metadata": {},
   "outputs": [],
   "source": [
    "def arrays(arr):\n",
    "    arr2=numpy.array(arr[::-1])\n",
    "    arr2=arr2.astype('float')\n",
    "    return(arr2)"
   ]
  },
  {
   "cell_type": "markdown",
   "metadata": {},
   "source": [
    "##  Shape and Reshape"
   ]
  },
  {
   "cell_type": "code",
   "execution_count": null,
   "metadata": {},
   "outputs": [],
   "source": [
    "import numpy as np\n",
    "x=list(int(x) for x in input().split())\n",
    "arr_1=np.array(x)\n",
    "arr_1.shape=(3,3)\n",
    "print(arr_1)"
   ]
  },
  {
   "cell_type": "markdown",
   "metadata": {},
   "source": [
    "## Transpose and Flatten\n",
    "\n"
   ]
  },
  {
   "cell_type": "code",
   "execution_count": null,
   "metadata": {},
   "outputs": [],
   "source": [
    "import numpy as np\n",
    "l1=list(int(x) for x in input().split())\n",
    "m=l1[0]\n",
    "n=l1[1]\n",
    "l2=[]\n",
    "for i in range(m):\n",
    "    l3=[]\n",
    "    l3=list(int(x) for x in input().split())\n",
    "    l2.extend(l3)\n",
    "arr1=np.array(l2)    \n",
    "arr1.shape=(m,n)\n",
    "arr2=arr1.transpose()\n",
    "print(arr2)\n",
    "print(arr1.flatten())"
   ]
  },
  {
   "cell_type": "markdown",
   "metadata": {},
   "source": [
    "## Concatenate"
   ]
  },
  {
   "cell_type": "code",
   "execution_count": null,
   "metadata": {},
   "outputs": [],
   "source": [
    "import numpy as np\n",
    "l1=list(int(x) for x in input().split())\n",
    "n=l1[0]\n",
    "m=l1[1]\n",
    "p=l1[2]\n",
    "l2=[]\n",
    "l3=[]\n",
    "for i in range(n):\n",
    "    l4=list(int(x) for x in input().split())\n",
    "    l2.extend(l4)\n",
    "for i in range(m):\n",
    "    l5=list(int(x) for x in input().split())\n",
    "    l3.extend(l5)\n",
    "arr1=np.array(l2)\n",
    "arr1.shape=(n,p)\n",
    "arr2=np.array(l3)\n",
    "arr2.shape=(m,p)\n",
    "arr3=np.concatenate((arr1,arr2),axis=0)\n",
    "print(arr3)"
   ]
  },
  {
   "cell_type": "markdown",
   "metadata": {},
   "source": [
    "## Eye and Identity"
   ]
  },
  {
   "cell_type": "code",
   "execution_count": null,
   "metadata": {},
   "outputs": [],
   "source": [
    "import numpy \n",
    "l1=list(int(x) for x in input().split())\n",
    "n=l1[0]\n",
    "m=l1[1]\n",
    "a=numpy.eye(n,m)\n",
    "numpy.set_printoptions(legacy='1.13')\n",
    "print(a,sep=\" \")"
   ]
  },
  {
   "cell_type": "markdown",
   "metadata": {},
   "source": [
    "## Min and Max"
   ]
  },
  {
   "cell_type": "code",
   "execution_count": null,
   "metadata": {},
   "outputs": [],
   "source": [
    "import numpy as np\n",
    "l1=list(int(x) for x in input().split())\n",
    "n=l1[0]\n",
    "m=l1[1]\n",
    "l2=[]\n",
    "for i in range(n):\n",
    "    l3=list(int(x) for x in input().split())\n",
    "    l2.extend(l3)\n",
    "arr1=np.array(l2)\n",
    "arr1.shape=(n,m)\n",
    "l4=arr1.min(axis=1)\n",
    "\n",
    "print(l4.max())"
   ]
  },
  {
   "cell_type": "markdown",
   "metadata": {},
   "source": [
    "## Mean, Var, and Std"
   ]
  },
  {
   "cell_type": "code",
   "execution_count": null,
   "metadata": {},
   "outputs": [],
   "source": [
    "import numpy \n",
    "l1=list(int(x) for x in input().split())\n",
    "n=l1[0]\n",
    "m=l1[1]\n",
    "l2=list(int(x) for x in input().split())\n",
    "numpy.set_printoptions(legacy='1.13')\n",
    "for i in range(n-1):\n",
    "    l3=list(int(x) for x in input().split())\n",
    "    l2.extend(l3)\n",
    "    arr1=numpy.array(l2)\n",
    "arr1.shape=(n,m)    \n",
    "print (numpy.mean(arr1,axis=1),sep=\" \")\n",
    "print (numpy.var(arr1,axis=0))\n",
    "print (round(numpy.std(arr1,axis=None),12))"
   ]
  }
 ],
 "metadata": {
  "kernelspec": {
   "display_name": "Python 3",
   "language": "python",
   "name": "python3"
  },
  "language_info": {
   "codemirror_mode": {
    "name": "ipython",
    "version": 3
   },
   "file_extension": ".py",
   "mimetype": "text/x-python",
   "name": "python",
   "nbconvert_exporter": "python",
   "pygments_lexer": "ipython3",
   "version": "3.7.3"
  }
 },
 "nbformat": 4,
 "nbformat_minor": 2
}
