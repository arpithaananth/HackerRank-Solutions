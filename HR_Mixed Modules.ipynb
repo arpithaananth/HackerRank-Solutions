{
 "cells": [
  {
   "cell_type": "markdown",
   "metadata": {},
   "source": [
    "# <center> HackerRank Mixed Module </center>"
   ]
  },
  {
   "cell_type": "markdown",
   "metadata": {},
   "source": [
    " **This notebook contains a few solutions for HackerRank DateTime, Errors and Exceptions, Python Functionals, Regex and Parsing Modules**"
   ]
  },
  {
   "cell_type": "markdown",
   "metadata": {},
   "source": [
    "## Calendar "
   ]
  },
  {
   "cell_type": "code",
   "execution_count": null,
   "metadata": {},
   "outputs": [],
   "source": [
    "import calendar\n",
    "ip=list(x for x in input().split())\n",
    "yr=int(ip[2])\n",
    "mm=ip[0]\n",
    "if mm[0]!='0':\n",
    "    mm=int(mm)\n",
    "else:\n",
    "    mm=int(mm[1])   \n",
    "dd=int(ip[1])\n",
    "day = calendar.weekday(yr,mm,dd)\n",
    "lower=calendar.day_name[day]\n",
    "print(lower.upper())\n"
   ]
  },
  {
   "cell_type": "markdown",
   "metadata": {},
   "source": [
    "## Exceptions"
   ]
  },
  {
   "cell_type": "code",
   "execution_count": null,
   "metadata": {},
   "outputs": [],
   "source": [
    "n=int(input())\n",
    "ls=[]\n",
    "for i in range(n):\n",
    "    x=list((x) for x in input().split())\n",
    "    ls.append(x)\n",
    "\n",
    "for i in range(len(ls)):\n",
    "    a=ls[i][0]\n",
    "    b=ls[i][1]\n",
    "    \n",
    "    try:\n",
    "        c=int(a)//int(b)\n",
    "        print(c)\n",
    "    except ZeroDivisionError as e:\n",
    "        print(\"Error Code:\",e)\n",
    "    except ValueError as e:\n",
    "        print(\"Error Code:\",e) "
   ]
  },
  {
   "cell_type": "markdown",
   "metadata": {},
   "source": [
    "## Athlete Sort"
   ]
  },
  {
   "cell_type": "code",
   "execution_count": null,
   "metadata": {},
   "outputs": [],
   "source": [
    "nm = input().split()\n",
    "n = int(nm[0])\n",
    "m = int(nm[1])\n",
    "\n",
    "arr = []\n",
    "for i in range(n):\n",
    "        arr.append(list(map(int, input().rstrip().split())))\n",
    "        \n",
    "k = int(input())\n",
    "if 0<k<m:\n",
    "    from operator import itemgetter\n",
    "    result=sorted(arr,key=itemgetter(k))\n",
    "    for i in range(len(result)):\n",
    "        print(*result[i])    "
   ]
  },
  {
   "cell_type": "markdown",
   "metadata": {},
   "source": [
    "## Map and Lambda Function"
   ]
  },
  {
   "cell_type": "code",
   "execution_count": null,
   "metadata": {},
   "outputs": [],
   "source": [
    "cube = lambda x: x**3\n",
    "\n",
    "def fibonacci(n):\n",
    "    ls=[0,1]\n",
    "    any(map(lambda _: ls.append(sum(ls[-2:])), range(2, n))) \n",
    "    return ls[:n]    "
   ]
  },
  {
   "cell_type": "markdown",
   "metadata": {},
   "source": [
    "## Re.split()"
   ]
  },
  {
   "cell_type": "code",
   "execution_count": null,
   "metadata": {},
   "outputs": [],
   "source": [
    "regex_pattern = r\"[,.]\""
   ]
  },
  {
   "cell_type": "markdown",
   "metadata": {},
   "source": [
    "## Validating phone numbers"
   ]
  },
  {
   "cell_type": "code",
   "execution_count": null,
   "metadata": {},
   "outputs": [],
   "source": [
    "import re\n",
    "a=int(input())\n",
    "ls=[]\n",
    "for i in range(a):\n",
    "    l=input()\n",
    "    ls.append(l)\n",
    "    \n",
    "for i in range(len(ls)):\n",
    "    line=ls[i]\n",
    "    if re.search(\"^[7,8,9]\\\\d{9}$\",line):\n",
    "        print(\"YES\")\n",
    "    else:\n",
    "        print(\"NO\")"
   ]
  }
 ],
 "metadata": {
  "kernelspec": {
   "display_name": "Python 3",
   "language": "python",
   "name": "python3"
  },
  "language_info": {
   "codemirror_mode": {
    "name": "ipython",
    "version": 3
   },
   "file_extension": ".py",
   "mimetype": "text/x-python",
   "name": "python",
   "nbconvert_exporter": "python",
   "pygments_lexer": "ipython3",
   "version": "3.7.3"
  }
 },
 "nbformat": 4,
 "nbformat_minor": 2
}
